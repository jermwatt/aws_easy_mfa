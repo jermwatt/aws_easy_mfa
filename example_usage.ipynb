{
 "cells": [
  {
   "cell_type": "code",
   "execution_count": 3,
   "metadata": {},
   "outputs": [
    {
     "name": "stdout",
     "output_type": "stream",
     "text": [
      "Requirement already satisfied: aws-easy-mfa in ./.venv/lib/python3.9/site-packages (0.1.0)\n",
      "Requirement already satisfied: boto3<2.0.0,>=1.26.139 in ./.venv/lib/python3.9/site-packages (from aws-easy-mfa) (1.26.139)\n",
      "Requirement already satisfied: botocore<1.30.0,>=1.29.139 in ./.venv/lib/python3.9/site-packages (from boto3<2.0.0,>=1.26.139->aws-easy-mfa) (1.29.139)\n",
      "Requirement already satisfied: jmespath<2.0.0,>=0.7.1 in ./.venv/lib/python3.9/site-packages (from boto3<2.0.0,>=1.26.139->aws-easy-mfa) (1.0.1)\n",
      "Requirement already satisfied: s3transfer<0.7.0,>=0.6.0 in ./.venv/lib/python3.9/site-packages (from boto3<2.0.0,>=1.26.139->aws-easy-mfa) (0.6.1)\n",
      "Requirement already satisfied: urllib3<1.27,>=1.25.4 in ./.venv/lib/python3.9/site-packages (from botocore<1.30.0,>=1.29.139->boto3<2.0.0,>=1.26.139->aws-easy-mfa) (1.26.16)\n",
      "Requirement already satisfied: python-dateutil<3.0.0,>=2.1 in ./.venv/lib/python3.9/site-packages (from botocore<1.30.0,>=1.29.139->boto3<2.0.0,>=1.26.139->aws-easy-mfa) (2.8.2)\n",
      "Requirement already satisfied: six>=1.5 in ./.venv/lib/python3.9/site-packages (from python-dateutil<3.0.0,>=2.1->botocore<1.30.0,>=1.29.139->boto3<2.0.0,>=1.26.139->aws-easy-mfa) (1.16.0)\n",
      "\n",
      "\u001b[1m[\u001b[0m\u001b[34;49mnotice\u001b[0m\u001b[1;39;49m]\u001b[0m\u001b[39;49m A new release of pip is available: \u001b[0m\u001b[31;49m23.0.1\u001b[0m\u001b[39;49m -> \u001b[0m\u001b[32;49m23.1.2\u001b[0m\n",
      "\u001b[1m[\u001b[0m\u001b[34;49mnotice\u001b[0m\u001b[1;39;49m]\u001b[0m\u001b[39;49m To update, run: \u001b[0m\u001b[32;49mpip install --upgrade pip\u001b[0m\n"
     ]
    }
   ],
   "source": [
    "!pip install aws-easy-mfa"
   ]
  },
  {
   "cell_type": "code",
   "execution_count": 1,
   "metadata": {},
   "outputs": [],
   "source": [
    "from aws_easy_mfa import aws_easy_mfa\n",
    "\n",
    "@aws_easy_mfa(mfa_device_arn='arn-of-the-mfa-device', \n",
    "              mfa_token_code='code-from-token', \n",
    "              duration_seconds=3600,\n",
    "              return_session=True)\n",
    "def list_s3_buckets(session=None):\n",
    "    # Create an S3 client using the session\n",
    "    s3_client = session.client('s3')\n",
    "\n",
    "    # List all S3 buckets\n",
    "    response = s3_client.list_buckets()\n",
    "\n",
    "    # Extract the bucket names from the response\n",
    "    buckets = response['Buckets']\n",
    "    bucket_names = [bucket['Name'] for bucket in buckets]\n",
    "\n",
    "    # Print the bucket names\n",
    "    for bucket_name in bucket_names:\n",
    "        print(bucket_name)\n",
    "    return bucket_names"
   ]
  }
 ],
 "metadata": {
  "kernelspec": {
   "display_name": ".venv",
   "language": "python",
   "name": "python3"
  },
  "language_info": {
   "codemirror_mode": {
    "name": "ipython",
    "version": 3
   },
   "file_extension": ".py",
   "mimetype": "text/x-python",
   "name": "python",
   "nbconvert_exporter": "python",
   "pygments_lexer": "ipython3",
   "version": "3.9.1"
  },
  "orig_nbformat": 4
 },
 "nbformat": 4,
 "nbformat_minor": 2
}
